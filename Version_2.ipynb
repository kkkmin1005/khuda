{
  "cells": [
    {
      "cell_type": "markdown",
      "id": "WUWgWnnxjUpz",
      "metadata": {
        "id": "WUWgWnnxjUpz"
      },
      "source": [
        "# 1)**import module**"
      ]
    },
    {
      "cell_type": "code",
      "execution_count": null,
      "id": "ee3c0421",
      "metadata": {
        "id": "ee3c0421"
      },
      "outputs": [],
      "source": [
        "import numpy as np\n",
        "import torchvision.transforms as transforms\n",
        "from torch.utils.data import Dataset, DataLoader\n",
        "from PIL import Image"
      ]
    },
    {
      "cell_type": "code",
      "execution_count": null,
      "id": "QQuSn9RVeztT",
      "metadata": {
        "id": "QQuSn9RVeztT"
      },
      "outputs": [],
      "source": [
        "from google.colab import drive\n",
        "drive.mount('/content/drive')"
      ]
    },
    {
      "cell_type": "markdown",
      "id": "TkBu4mXRjbgz",
      "metadata": {
        "id": "TkBu4mXRjbgz"
      },
      "source": [
        "# **2) Dataset build**"
      ]
    },
    {
      "cell_type": "code",
      "execution_count": null,
      "id": "4da07e0c",
      "metadata": {
        "id": "4da07e0c"
      },
      "outputs": [],
      "source": [
        "project_folder = '/content/drive/MyDrive/Project3'\n",
        "\n",
        "import os\n",
        "\n",
        "image = []\n",
        "label = []\n",
        "\n",
        "for subdir, _, files in os.walk(project_folder):\n",
        "    for file in files:\n",
        "        if file.endswith(('png', 'jpg', 'jpeg')):\n",
        "            image_path = os.path.join(subdir, file)\n",
        "            image.append(image_path)\n",
        "\n",
        "            label_name = os.path.basename(subdir)\n",
        "            label.append(label_name)"
      ]
    },
    {
      "cell_type": "code",
      "execution_count": null,
      "id": "43255b4b",
      "metadata": {
        "id": "43255b4b"
      },
      "outputs": [],
      "source": [
        "BATCH_SIZE = 1 #변경 금지\n",
        "\n",
        "TRAINING_image = []\n",
        "TRAINING_label = []\n",
        "TEST_image = []\n",
        "TEST_label = []\n",
        "\n",
        "for i in range(0,80):\n",
        "  for j in range(0,20):\n",
        "    for k in range(0,2):\n",
        "      TRAINING_image.append(image[200*j+i+k])\n",
        "      TRAINING_label.append(label[200*j+i+k])\n",
        "\n",
        "for i in range(80, 100):\n",
        "  for j in range(0,20):\n",
        "    for k in range(0,2):\n",
        "      TEST_image.append(image[200*j+i+k])\n",
        "      TEST_label.append(label[200*j+i+k])\n",
        "\n",
        "\n",
        "import random\n",
        "\n",
        "def shuffle_images_labels(image_list, label_list):\n",
        "    combined_list = list(zip(image_list, label_list))  # 이미지와 라벨을 쌍으로 묶음\n",
        "    for i in range(1, len(combined_list)-1, 2):\n",
        "        if random.random() < 0.3:  # 50% 확률로 스왑 수행\n",
        "            combined_list[i], combined_list[i+1] = combined_list[i+1], combined_list[1]\n",
        "    return zip(*combined_list)\n",
        "\n",
        "\n",
        "TRAINING_image, TRAINING_label = shuffle_images_labels(TRAINING_image, TRAINING_label)"
      ]
    },
    {
      "cell_type": "code",
      "execution_count": null,
      "id": "-F7SwENpwtRK",
      "metadata": {
        "id": "-F7SwENpwtRK"
      },
      "outputs": [],
      "source": [
        "class CustomDataset(Dataset):\n",
        "    def __init__(self, image_paths, labels, transform=None):\n",
        "        self.image_paths = image_paths\n",
        "        self.labels = labels\n",
        "\n",
        "    def __len__(self):\n",
        "        return len(self.image_paths)\n",
        "\n",
        "    def __getitem__(self, idx):\n",
        "        image_path = self.image_paths[idx]\n",
        "        label = self.labels[idx]\n",
        "        image = Image.open(image_path).convert('RGB')\n",
        "        image = transforms.Resize((224, 224))(image)\n",
        "        image = transforms.ToTensor()(image)\n",
        "\n",
        "        return image, label\n",
        "\n",
        "    #Renoir 1.0에서는 Randomcrop((224,224))을 사용하였으나,\n",
        "    #이미지가 모델에 입력되기도 전에 정보 손실이 생기지 않게 하기 위해\n",
        "    #Renoir 2.0에서는 Resize((224,224)) 사용\n",
        "\n",
        "train_dataset = CustomDataset(TRAINING_image, TRAINING_label)\n",
        "train_loader = DataLoader(train_dataset, batch_size = BATCH_SIZE)\n",
        "test_dataset = CustomDataset(TEST_image, TEST_label)\n",
        "test_loader = DataLoader(test_dataset, batch_size = BATCH_SIZE)"
      ]
    },
    {
      "cell_type": "markdown",
      "id": "XHFAXF7djnyI",
      "metadata": {
        "id": "XHFAXF7djnyI"
      },
      "source": [
        "# **3) Model Define**"
      ]
    },
    {
      "cell_type": "code",
      "execution_count": null,
      "id": "hO7xpKTij7Th",
      "metadata": {
        "id": "hO7xpKTij7Th"
      },
      "outputs": [],
      "source": [
        "import torch\n",
        "import torch.nn as nn\n",
        "from torch import Tensor\n",
        "\n",
        "def conv_1(in_dim, out_dim):\n",
        "  model = nn.Sequential(\n",
        "      nn.Conv2d(in_dim, out_dim, 1, 1),\n",
        "      nn.ReLU(),\n",
        "  )\n",
        "  return model\n",
        "\n",
        "def conv_1_3(in_dim,mid_dim,out_dim):\n",
        "    model = nn.Sequential(\n",
        "        nn.Conv2d(in_dim,mid_dim,1,1),\n",
        "        nn.ReLU(),\n",
        "        nn.Conv2d(mid_dim,out_dim,3,1,1),\n",
        "        nn.ReLU()\n",
        "    )\n",
        "    return model\n",
        "\n",
        "def conv_1_5(in_dim,mid_dim,out_dim):\n",
        "    model = nn.Sequential(\n",
        "        nn.Conv2d(in_dim,mid_dim,1,1),\n",
        "        nn.ReLU(),\n",
        "        nn.Conv2d(mid_dim,out_dim,5,1,2),\n",
        "        nn.ReLU()\n",
        "    )\n",
        "    return model\n",
        "\n",
        "def max_3_1(in_dim,out_dim):\n",
        "    model = nn.Sequential(\n",
        "        nn.MaxPool2d(kernel_size=3,stride=1,padding=1),\n",
        "        nn.Conv2d(in_dim,out_dim,1,1),\n",
        "        nn.ReLU(),\n",
        "    )\n",
        "    return model\n",
        "\n",
        "class inception_module(nn.Module):\n",
        "    def __init__(self,in_dim,out_dim_1,mid_dim_3,out_dim_3,mid_dim_5,out_dim_5,pool_dim):\n",
        "        super(inception_module,self).__init__()\n",
        "\n",
        "        self.conv_1 = conv_1(in_dim,out_dim_1)\n",
        "        self.conv_1_3 = conv_1_3(in_dim,mid_dim_3,out_dim_3)\n",
        "        self.conv_1_5 = conv_1_5(in_dim,mid_dim_5,out_dim_5)\n",
        "        self.max_3_1 = max_3_1(in_dim,pool_dim)\n",
        "\n",
        "    def forward(self,x):\n",
        "        out_1 = self.conv_1(x)\n",
        "        out_2 = self.conv_1_3(x)\n",
        "        out_3 = self.conv_1_5(x)\n",
        "        out_4 = self.max_3_1(x)\n",
        "\n",
        "        output = torch.cat([out_1,out_2,out_3,out_4],1)\n",
        "        return output\n"
      ]
    },
    {
      "cell_type": "code",
      "execution_count": null,
      "id": "zv9AQ97cltfB",
      "metadata": {
        "id": "zv9AQ97cltfB"
      },
      "outputs": [],
      "source": [
        "#nn.Conv2d(input_chennel, output_channel, kernel_size, stride, padding)\n",
        "#nn.MaxPool2d(kernel_size, stride, padding)\n",
        "\n",
        "class GoogLeNet(nn.Module):\n",
        "    def __init__(self, base_dim):\n",
        "        super(GoogLeNet, self).__init__()\n",
        "        self.layer_1 = nn.Sequential(\n",
        "            nn.Conv2d(3,base_dim,7,2,3),\n",
        "            nn.MaxPool2d(3,2,1),\n",
        "            nn.Conv2d(base_dim,base_dim*3,3,1,1),\n",
        "            nn.MaxPool2d(3,2,1),\n",
        "        )\n",
        "        self.layer_2 = nn.Sequential(\n",
        "            inception_module(base_dim*3,64,96,128,16,32,32),\n",
        "            inception_module(base_dim*4,128,128,192,32,96,64),\n",
        "            nn.MaxPool2d(3,2,1),\n",
        "        )\n",
        "        self.layer_3 = nn.Sequential(\n",
        "            inception_module(480,192,96,208,16,48,64),\n",
        "            inception_module(512,160,112,224,24,64,64),\n",
        "            inception_module(512,128,128,256,24,64,64),\n",
        "            inception_module(512,112,144,288,32,64,64),\n",
        "            inception_module(528,256,160,320,32,128,128),\n",
        "            nn.MaxPool2d(3,2,1),\n",
        "        )\n",
        "        self.layer_4 = nn.Sequential(\n",
        "            inception_module(832,256,160,320,32,128,128),\n",
        "            inception_module(832,384,192,384,48,128,128),\n",
        "            nn.AvgPool2d(7,1), #nn.AvgPool2d(7,1) output size : 1x1x1024\n",
        "        )\n",
        "\n",
        "    def forward(self, x):\n",
        "        out = self.layer_1(x)\n",
        "        out = self.layer_2(out)\n",
        "        out = self.layer_3(out)\n",
        "        out = self.layer_4(out)\n",
        "        out = out.view(out.size(0), -1)\n",
        "        return out  #self.layer_4를 통과한 tensor return"
      ]
    },
    {
      "cell_type": "markdown",
      "id": "garKz00pEYS-",
      "metadata": {
        "id": "garKz00pEYS-"
      },
      "source": [
        "# **4)Model initialization**"
      ]
    },
    {
      "cell_type": "code",
      "execution_count": null,
      "id": "soBQgVxUl_N5",
      "metadata": {
        "id": "soBQgVxUl_N5"
      },
      "outputs": [],
      "source": [
        "import torch.nn.init as init\n",
        "import torch.nn as nn\n",
        "\n",
        "DEVICE = torch.device('cuda' if torch.cuda.is_available() else 'cpu')\n",
        "model = GoogLeNet(base_dim=64)\n",
        "model = model.to(DEVICE)\n",
        "\n",
        "loss = nn.BCELoss()\n",
        "optimizer =torch.optim.SGD(model.parameters(), lr = 0.005,momentum = 0.9, weight_decay = 0.0005)\n",
        "scheduler = torch.optim.lr_scheduler.StepLR(optimizer, step_size=8, gamma=0.04)"
      ]
    },
    {
      "cell_type": "markdown",
      "id": "RkYrAbShJ0uP",
      "metadata": {
        "id": "RkYrAbShJ0uP"
      },
      "source": [
        "# **5) TEST function define**"
      ]
    },
    {
      "cell_type": "code",
      "execution_count": null,
      "id": "nabT0mfZJ78m",
      "metadata": {
        "id": "nabT0mfZJ78m"
      },
      "outputs": [],
      "source": [
        "def test(test_loader, DEVICE):\n",
        "  correct_pred = 0\n",
        "\n",
        "  for i, (_image1, _label1) in enumerate(test_loader):\n",
        "    image1 = _image1.to(DEVICE)\n",
        "    label1 = _label1[0]\n",
        "    vector1_tensor = model(image1)\n",
        "\n",
        "    if (i == 0):  # Exception Case\n",
        "      label2 = label1\n",
        "      vector2_tensor = vector1_tensor\n",
        "\n",
        "    target_vector = [label1 == label2]\n",
        "    target_tensor = torch.tensor(target_vector).float()\n",
        "    target_tensor = target_tensor.to(DEVICE)\n",
        "\n",
        "    similarity =  F.cosine_similarity(vector1_tensor, vector2_tensor, dim= -1)\n",
        "    scaled_similarity = torch.sigmoid(similarity)\n",
        "\n",
        "    if label1 == label2 and scaled_similarity.item() > 0.8:\n",
        "        correct_pred += 1\n",
        "    elif label1 != label2 and scaled_similarity.item() < 0.8:\n",
        "        correct_pred += 1\n",
        "\n",
        "    #연산량 감소를 위한 텐서 재활용\n",
        "    label2 = label1\n",
        "    vector2_tensor = vector1_tensor.detach()\n",
        "\n",
        "  return correct_pred"
      ]
    },
    {
      "cell_type": "markdown",
      "id": "hz-6ONs2E5cz",
      "metadata": {
        "id": "hz-6ONs2E5cz"
      },
      "source": [
        "# **6) Training**"
      ]
    },
    {
      "cell_type": "code",
      "execution_count": null,
      "id": "gtnXz1lhngLS",
      "metadata": {
        "id": "gtnXz1lhngLS"
      },
      "outputs": [],
      "source": [
        "import torch.nn.functional as F\n",
        "import time\n",
        "\n",
        "EPOCH = 50\n",
        "\n",
        "start_time = time.time()\n",
        "train_acc_lst, test_acc_lst = [],[]\n",
        "\n",
        "for epoch in range(EPOCH):\n",
        "  model.train()\n",
        "  correct_pred, num_examples, test_acc = 0, len(train_loader), 0\n",
        "\n",
        "  for i, (_image1, _label1) in enumerate(train_loader):\n",
        "    optimizer.zero_grad()\n",
        "\n",
        "    image1 = _image1.to(DEVICE)\n",
        "    label1 = _label1[0]\n",
        "    vector1_tensor = model(image1)\n",
        "\n",
        "    if (i == 0):  # Exception Case\n",
        "      label2 = label1\n",
        "      vector2_tensor = vector1_tensor\n",
        "\n",
        "    target_vector = [label1 == label2]\n",
        "    target_tensor = torch.tensor(target_vector).float()\n",
        "    target_tensor = target_tensor.to(DEVICE)\n",
        "\n",
        "    similarity =  F.cosine_similarity(vector1_tensor, vector2_tensor, dim= -1)\n",
        "    scaled_similarity = torch.sigmoid(similarity)\n",
        "\n",
        "    if label1 == label2 and scaled_similarity.item() > 0.8:\n",
        "        correct_pred += 1\n",
        "    elif label1 != label2 and scaled_similarity.item() < 0.8:\n",
        "        correct_pred += 1\n",
        "\n",
        "    cost= loss(scaled_similarity, target_tensor)\n",
        "    cost.backward()\n",
        "    optimizer.step()\n",
        "\n",
        "    #연산량 감소를 위한 텐서 재활용\n",
        "    label2 = label1\n",
        "    vector2_tensor = vector1_tensor.detach()\n",
        "\n",
        "    if not i % 40:\n",
        "      print (f'Epoch: {epoch+65:03d} | '\n",
        "            f'Batch {i:03d}/{len(train_loader):03d} |'\n",
        "             f' Cost: {cost:.4f}')\n",
        "\n",
        "  test_acc = test(test_loader, DEVICE)\n",
        "\n",
        "  PATH = f\"/content/drive/MyDrive/model_weights_epoch_{epoch}.pth\"  # 에포크별로 파일 이름 지정\n",
        "  torch.save(model.state_dict(), PATH)\n",
        "\n",
        "  print('training accuracy : ', (correct_pred/len(train_loader))*100,'% | test accuracy : ', (test_acc/len(test_loader))*100, '%')\n",
        "\n",
        "  elapsed = (time.time() - start_time)/60\n",
        "  print(f'Time elapsed: {elapsed:.2f} min')\n",
        "\n",
        "elapsed = (time.time() - start_time)/60\n",
        "print(f'Total Training Time: {elapsed:.2f} min')"
      ]
    },
    {
      "cell_type": "markdown",
      "id": "0baca914",
      "metadata": {},
      "source": [
        "모델 구조\n",
        "- inception 모듈을 사용하여 다양한 크기의 필터를 적용시켜 다양한 특징을 추출 가능\n",
        "- 코사인 유사도를 통해 유사도를 측정한 후 시그모이드 함수를 통해 스케일링 후 BCEloss 손실함수를 사용한다\n",
        "- 학습시 입력 데이터를 통해 코사인 유사도를 측정하고 역전파를 통해 모델을 업데이트함\n",
        "\n",
        "개선 사항\n",
        "- 임계값 조정: 현재 코사인 유사도가 0.8 이상이면 같은 클래스로 분류하지만 해당 임계값을 학습 진행 상황에 따라 조정되도록 수정\n",
        "- 손실 함수 수정: 두 벡터간 유사도를 기반으로 하는 경우 triplet loss 같은 손실함수가 더 적합함\n",
        "- fc 레이어를 추가"
      ]
    }
  ],
  "metadata": {
    "colab": {
      "provenance": []
    },
    "kernelspec": {
      "display_name": "Python 3",
      "name": "python3"
    },
    "language_info": {
      "codemirror_mode": {
        "name": "ipython",
        "version": 3
      },
      "file_extension": ".py",
      "mimetype": "text/x-python",
      "name": "python",
      "nbconvert_exporter": "python",
      "pygments_lexer": "ipython3",
      "version": "3.9.7"
    }
  },
  "nbformat": 4,
  "nbformat_minor": 5
}
